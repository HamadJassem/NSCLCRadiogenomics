{
 "cells": [
  {
   "cell_type": "code",
   "execution_count": 1,
   "metadata": {},
   "outputs": [],
   "source": [
    "import pandas as pd\n",
    "import numpy as np\n",
    "import matplotlib.pyplot as plt\n",
    "import sklearn\n",
    "from sklearn.linear_model import LogisticRegression\n",
    "from sklearn.metrics import classification_report, confusion_matrix\n",
    "from sklearn.model_selection import GridSearchCV \n",
    "import seaborn as sns"
   ]
  },
  {
   "cell_type": "markdown",
   "metadata": {},
   "source": [
    "### Reading Data"
   ]
  },
  {
   "cell_type": "code",
   "execution_count": 2,
   "metadata": {},
   "outputs": [],
   "source": [
    "train = pd.read_csv('./train_data_resamples.csv')\n",
    "test = pd.read_csv('./test_data_resamples.csv')"
   ]
  },
  {
   "cell_type": "code",
   "execution_count": 3,
   "metadata": {},
   "outputs": [
    {
     "name": "stdout",
     "output_type": "stream",
     "text": [
      "Training Data Size:  (98, 54)\n",
      "Testing Data Size:  (47, 54)\n"
     ]
    }
   ],
   "source": [
    "print(\"Training Data Size: \", train.shape)\n",
    "print(\"Testing Data Size: \", test.shape)"
   ]
  },
  {
   "cell_type": "code",
   "execution_count": 4,
   "metadata": {},
   "outputs": [
    {
     "data": {
      "image/png": "[encoded data removed]",
      "text/plain": [
       "<Figure size 640x480 with 1 Axes>"
      ]
     },
     "metadata": {},
     "output_type": "display_data"
    }
   ],
   "source": [
    "#checking class balance plot grouby label\n",
    "train.groupby('Histology').size().plot(kind='bar')\n",
    "plt.title('Class Balance for training data')\n",
    "plt.show()"
   ]
  },
  {
   "cell_type": "markdown",
   "metadata": {},
   "source": [
    "### Feature Selection"
   ]
  },
  {
   "cell_type": "code",
   "execution_count": 5,
   "metadata": {},
   "outputs": [
    {
     "name": "stdout",
     "output_type": "stream",
     "text": [
      "Number of features selected: 9\n",
      "Selected features: Index(['Age at Histological Diagnosis', 'Weight (lbs)', '%GG',\n",
      "       'EGFR mutation status', 'KRAS mutation status',\n",
      "       'ALK translocation status', 'HPGD', 'CD44', 'VIM'],\n",
      "      dtype='object')\n"
     ]
    }
   ],
   "source": [
    "from sklearn.ensemble import RandomForestClassifier\n",
    "from sklearn.feature_selection import RFECV\n",
    "from sklearn.preprocessing import StandardScaler\n",
    "\n",
    "# Columns that should not be scaled\n",
    "columns_to_exclude = ['Case ID', 'Histology']\n",
    "\n",
    "# Columns that should be scaled\n",
    "columns_to_scale = train.columns.difference(columns_to_exclude)\n",
    "\n",
    "# Initialize the scaler\n",
    "scaler = StandardScaler()\n",
    "\n",
    "# Fit the scaler to your data and transform the data\n",
    "df_scaled = scaler.fit_transform(train[columns_to_scale])\n",
    "\n",
    "# Create a new DataFrame with the scaled values in the relevant columns\n",
    "df_scaled = pd.DataFrame(df_scaled, columns=columns_to_scale, index=train.index)\n",
    "\n",
    "# Concatenate the non-scaled and scaled columns to form the full DataFrame\n",
    "data = pd.concat([train[columns_to_exclude], df_scaled], axis=1)\n",
    "\n",
    "# Initialize a classifier\n",
    "clf = RandomForestClassifier(n_estimators=100)\n",
    "\n",
    "X = train.drop(['Case ID', 'Histology'], axis=1)\n",
    "Y = train['Histology']\n",
    "# Use RFECV for feature selection\n",
    "selector = RFECV(estimator=clf, step=1, cv=5)\n",
    "selector = selector.fit(X, Y)\n",
    "\n",
    "# Select the important features based on RFE\n",
    "X_train_selected = selector.transform(X)\n",
    "\n",
    "\n",
    "print(f\"Number of features selected: {selector.n_features_}\")\n",
    "print(f\"Selected features: {X.columns[selector.support_]}\")\n",
    "selected_columns = X.columns[selector.support_]"
   ]
  },
  {
   "cell_type": "code",
   "execution_count": 6,
   "metadata": {},
   "outputs": [],
   "source": [
    "X_train = train[selected_columns]\n",
    "X_test = test[selected_columns]\n",
    "y_train = train['Histology'] \n",
    "y_test = test['Histology']"
   ]
  },
  {
   "cell_type": "markdown",
   "metadata": {},
   "source": [
    "### Grid Search"
   ]
  },
  {
   "cell_type": "code",
   "execution_count": 11,
   "metadata": {},
   "outputs": [
    {
     "name": "stdout",
     "output_type": "stream",
     "text": [
      "tuned hpyerparameters :(best parameters)  {'C': 0.8286427728546842, 'penalty': 'l1', 'solver': 'liblinear'}\n",
      "accuracy : 0.7844444444444445\n"
     ]
    }
   ],
   "source": [
    "from sklearn.model_selection import GridSearchCV\n",
    "from sklearn.linear_model import LogisticRegression\n",
    "\n",
    "grid = { \"C\":np.logspace(-4, 4, 50), \n",
    "         \"penalty\":[\"l1\"], \n",
    "         'solver': ['liblinear']}\n",
    "logreg = LogisticRegression(max_iter=1000)\n",
    "logreg_cv = GridSearchCV(logreg,grid,cv=10)\n",
    "logreg_cv.fit(X_train,y_train)\n",
    "\n",
    "print(\"tuned hpyerparameters :(best parameters) \",logreg_cv.best_params_)\n",
    "print(\"accuracy :\",logreg_cv.best_score_)"
   ]
  },
  {
   "cell_type": "code",
   "execution_count": 12,
   "metadata": {},
   "outputs": [
    {
     "name": "stdout",
     "output_type": "stream",
     "text": [
      "tuned hpyerparameters :(best parameters)  {'C': 0.08685113737513521, 'penalty': 'l2'}\n",
      "accuracy : 0.7644444444444445\n"
     ]
    }
   ],
   "source": [
    "from sklearn.model_selection import GridSearchCV\n",
    "from sklearn.linear_model import LogisticRegression\n",
    "\n",
    "grid = { \"C\":np.logspace(-4, 4, 50), \n",
    "         \"penalty\":[\"l2\"]}\n",
    "logreg = LogisticRegression(max_iter=1000)\n",
    "logreg_cv = GridSearchCV(logreg,grid,cv=10)\n",
    "logreg_cv.fit(X_train,y_train)\n",
    "\n",
    "print(\"tuned hpyerparameters :(best parameters) \",logreg_cv.best_params_)\n",
    "print(\"accuracy :\",logreg_cv.best_score_)"
   ]
  },
  {
   "cell_type": "code",
   "execution_count": 13,
   "metadata": {},
   "outputs": [
    {
     "name": "stdout",
     "output_type": "stream",
     "text": [
      "              precision    recall  f1-score   support\n",
      "\n",
      "           0       0.73      0.92      0.81        26\n",
      "           1       0.86      0.57      0.69        21\n",
      "\n",
      "    accuracy                           0.77        47\n",
      "   macro avg       0.79      0.75      0.75        47\n",
      "weighted avg       0.79      0.77      0.76        47\n",
      "\n"
     ]
    },
    {
     "data": {
      "text/plain": [
       "<Axes: >"
      ]
     },
     "execution_count": 13,
     "metadata": {},
     "output_type": "execute_result"
    },
    {
     "data": {
      "image/png": "[encoded data removed]",
      "text/plain": [
       "<Figure size 640x480 with 2 Axes>"
      ]
     },
     "metadata": {},
     "output_type": "display_data"
    }
   ],
   "source": [
    "logreg = LogisticRegression(max_iter=1000, C=0.8286427728546842, penalty='l1', solver='liblinear')\n",
    "logreg.fit(X_train, y_train)\n",
    "y_pred = logreg.predict(X_test)\n",
    "\n",
    "print(classification_report(y_test, y_pred))\n",
    "sns.heatmap(confusion_matrix(y_test, y_pred), annot=True, fmt='d')"
   ]
  }
 ],
 "metadata": {
  "kernelspec": {
   "display_name": "tensor",
   "language": "python",
   "name": "python3"
  },
  "language_info": {
   "codemirror_mode": {
    "name": "ipython",
    "version": 3
   },
   "file_extension": ".py",
   "mimetype": "text/x-python",
   "name": "python",
   "nbconvert_exporter": "python",
   "pygments_lexer": "ipython3",
   "version": "3.10.12"
  }
 },
 "nbformat": 4,
 "nbformat_minor": 2
}
